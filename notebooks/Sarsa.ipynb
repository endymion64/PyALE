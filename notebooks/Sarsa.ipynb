{
 "cells": [
  {
   "cell_type": "code",
   "execution_count": 1,
   "metadata": {
    "collapsed": true
   },
   "outputs": [],
   "source": [
    "import sys\n",
    "sys.path.append('/home/youri/git/PyALE/src')"
   ]
  },
  {
   "cell_type": "code",
   "execution_count": 2,
   "metadata": {
    "collapsed": true
   },
   "outputs": [],
   "source": [
    "# %load ../src/util/RLGlueRunner.py\n",
    "from multiprocessing import Process\n",
    "import os\n",
    "import rlglue.RLGlue as RLGlue\n",
    "from rlglue.agent import AgentLoader as AgentLoader\n",
    "\n",
    "\n",
    "\n",
    "def run_rlglue():\n",
    "    os.system('rl_glue')\n",
    "    \n",
    "def run_ale(ale_path,game):\n",
    "    ale_str = ''+ale_path + '/ale -display_screen false -game_controller rlglue -frame_skip 5 -disable_colour_averaging -use_environment_distribution '+ale_path +'/roms/'+game \n",
    "    os.system(ale_str)   \n",
    "\n",
    "def run_experiment(maxsteps=100,numeps=1):\n",
    "    taskSpec = RLGlue.RL_init()\n",
    "    for ep in range(numeps):\n",
    "        terminal=RLGlue.RL_episode(maxsteps)\n",
    "        totalSteps=RLGlue.RL_num_steps()\n",
    "        totalReward=RLGlue.RL_return()\n",
    "        print \"Episode \"+str(ep)+\"\\t \"+str(totalSteps)+ \" steps \\t\" + str(totalReward) + \" total reward\\t \" + str(terminal) + \" natural end\"\n",
    "    RLGlue.RL_cleanup()\n",
    "    \n",
    "def run_agent(agent=None):\n",
    "    AgentLoader.loadAgent(agent)\n",
    "    \n",
    "class RLGlueRunner(object):\n",
    "    procs = []\n",
    "    \n",
    "    def __init__(self,host='127.0.0.1',port='4096',ale_path = '.',\n",
    "                 game = '/home/youri/Desktop/roms/space_invaders.bin',agent=None,num_eps=1,max_steps=100):\n",
    "        self.host = host\n",
    "        self.port = port\n",
    "        self.ale_path = ale_path\n",
    "        self.game = game\n",
    "        self.agent = agent\n",
    "        self.num_eps = num_eps\n",
    "        self.max_steps = max_steps\n",
    "        \n",
    "    def create_procs(self):\n",
    "        self.procs = []\n",
    "        self.procs.append(Process(target=run_rlglue))\n",
    "        self.procs.append(Process(target=run_ale,args=(self.ale_path,self.game)))\n",
    "        self.procs.append(Process(target=run_experiment,args=(self.max_steps,self.num_eps)))\n",
    "        self.procs.append(Process(target=run_agent,args=(self.agent,)))\n",
    "        \n",
    "    def run(self):\n",
    "        os.environ['RLGLUE_HOST'] = self.host\n",
    "        os.environ['RLGLUE_PORT'] = self.port\n",
    "        self.create_procs()\n",
    "        for p in self.procs:\n",
    "            p.start()\n",
    "            \n",
    "    def is_finished(self):\n",
    "        return reduce(lambda x,y: x and y,map(lambda x: not x.is_alive(),self.procs))\n",
    "                        \n",
    "    def terminate(self):\n",
    "        for p in self.procs:\n",
    "            p.terminate()\n",
    "    "
   ]
  },
  {
   "cell_type": "code",
   "execution_count": 3,
   "metadata": {
    "collapsed": false
   },
   "outputs": [],
   "source": [
    "from agents.ALESarsaAgent import RAMALESarsaAgent\n",
    "\n",
    "agent= RAMALESarsaAgent(alpha=0.5,lambda_=0.9,gamma=0.999,agent_id=2)\n",
    "runner= RLGlueRunner(ale_path ='/home/youri/git/PyALE/',agent=agent,num_eps=10,max_steps=2000)\n",
    "runner.run()"
   ]
  },
  {
   "cell_type": "code",
   "execution_count": null,
   "metadata": {
    "collapsed": false
   },
   "outputs": [],
   "source": [
    "runner.is_finished()"
   ]
  },
  {
   "cell_type": "code",
   "execution_count": null,
   "metadata": {
    "collapsed": false
   },
   "outputs": [],
   "source": [
    "runner.terminate()"
   ]
  },
  {
   "cell_type": "code",
   "execution_count": null,
   "metadata": {
    "collapsed": false
   },
   "outputs": [],
   "source": [
    "import cPickle as pickle\n",
    "with open('SARSA_log.0','rb') as f:\n",
    "    log = pickle.load(f)\n"
   ]
  },
  {
   "cell_type": "code",
   "execution_count": null,
   "metadata": {
    "collapsed": false
   },
   "outputs": [],
   "source": [
    "print log"
   ]
  },
  {
   "cell_type": "code",
   "execution_count": null,
   "metadata": {
    "collapsed": false
   },
   "outputs": [],
   "source": [
    "ls"
   ]
  },
  {
   "cell_type": "code",
   "execution_count": null,
   "metadata": {
    "collapsed": false
   },
   "outputs": [],
   "source": [
    "import cPickle as pickle\n",
    "with open('../src/SARSA_log.None','rb') as f:\n",
    "    d = pickle.load(f)"
   ]
  },
  {
   "cell_type": "code",
   "execution_count": null,
   "metadata": {
    "collapsed": false
   },
   "outputs": [],
   "source": [
    "%matplotlib inline\n",
    "import matplotlib.pyplot as plt\n",
    "import numpy as np\n",
    "\n",
    "def avg_rew(data,w):\n",
    "    return np.convolve(data,np.ones(w),mode='valid')/float(w)\n",
    "\n",
    "plt.plot(avg_rew(d['reward'],100))"
   ]
  },
  {
   "cell_type": "code",
   "execution_count": null,
   "metadata": {
    "collapsed": false
   },
   "outputs": [],
   "source": [
    "1024*1024+1024"
   ]
  },
  {
   "cell_type": "code",
   "execution_count": null,
   "metadata": {
    "collapsed": true
   },
   "outputs": [],
   "source": []
  }
 ],
 "metadata": {
  "kernelspec": {
   "display_name": "Python 2",
   "language": "python",
   "name": "python2"
  },
  "language_info": {
   "codemirror_mode": {
    "name": "ipython",
    "version": 2
   },
   "file_extension": ".py",
   "mimetype": "text/x-python",
   "name": "python",
   "nbconvert_exporter": "python",
   "pygments_lexer": "ipython2",
   "version": "2.7.10"
  }
 },
 "nbformat": 4,
 "nbformat_minor": 0
}
